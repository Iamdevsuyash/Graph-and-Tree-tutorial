{
 "cells": [
  {
   "cell_type": "markdown",
   "id": "dd8d700f",
   "metadata": {},
   "source": [
    "## Tutorial: **Graphs and Trees**"
   ]
  },
  {
   "cell_type": "markdown",
   "id": "1a6e680c",
   "metadata": {},
   "source": [
    "We'll use adjacency list, adjacency matrix, and edge list representations to explore fundamental graph and tree concepts. "
   ]
  },
  {
   "cell_type": "markdown",
   "id": "c3d36f93",
   "metadata": {},
   "source": [
    "#### **Adjacency Lists** : A dictionary (or list of lists) where each key (node) maps to a list of its neighbors."
   ]
  },
  {
   "cell_type": "code",
   "execution_count": 27,
   "id": "9a3477be",
   "metadata": {},
   "outputs": [],
   "source": [
    "# Adjacencey Lists\n",
    "g1 = {\n",
    "    \"Hazratganj\":  [\"Chinhat\",\"Charbagh\",\"Matyari\"],\n",
    "    \"Chinhat\":  [\"Hazratganj\",\"SRMCEM\"],\n",
    "    \"Charbagh\": [\"Hazratganj\"],\n",
    "    \"Matyari\" :  [\"SRMCEM\",\"Hazratganj\"],\n",
    "    \"SRMCEM\": [\"Chinhat\",\"Matyari\"]\n",
    "}\n"
   ]
  },
  {
   "cell_type": "markdown",
   "id": "d44fcead",
   "metadata": {},
   "source": [
    "#### **Adjacency Matrix** : A 2D matrix where matrix[i][j] = 1 if there's an edge from i to j, else 0."
   ]
  },
  {
   "cell_type": "code",
   "execution_count": 28,
   "id": "3870ce25",
   "metadata": {},
   "outputs": [],
   "source": [
    "\n",
    "# adjacency Matrix\n",
    "\n",
    "nodes = [\"Hazratganj\",\"Chinhat\",\"Charbagh\",\"Matyari\",\"SRMCEM\"]\n",
    "g2 = [\n",
    "    [0,1,1,1,0],\n",
    "    [1,0,0,0,1],\n",
    "    [1,0,0,0,0],\n",
    "    [1,0,0,0,1],\n",
    "    [0,1,0,1,0]\n",
    "]"
   ]
  },
  {
   "cell_type": "markdown",
   "id": "1fa05f58",
   "metadata": {},
   "source": [
    "#### **Edge Lists** : A list of all edges as pairs of connected vertices (tuples), ideal for simple storage and iteration..\n"
   ]
  },
  {
   "cell_type": "code",
   "execution_count": null,
   "id": "41fafda3",
   "metadata": {},
   "outputs": [],
   "source": [
    "#edge lists\n",
    "g3 = [(\"Hazratganj\",\"Chinhat\"),(\"Chinhat\",\"Hazratganj\"),(\"Hazratganj\",\"Charbagh\"),(\"Charbagh\",\"Hazratganj\"),(\"Hazratganj\",\"Matyari\"),(\"Matyari\",\"Hazratganj\"),(\"Chinhat\",\"SRMCEM\"),(\"Matyari\",\"SRMCEM\"),(\"SRMCEM\",\"Chinhat\"),(\"SRMCEM\",\"Matyari\")]"
   ]
  },
  {
   "cell_type": "markdown",
   "id": "b20dc420",
   "metadata": {},
   "source": [
    "### Note : **Ignore** the below cell it is just for visualization. Just run it!"
   ]
  },
  {
   "cell_type": "code",
   "execution_count": 29,
   "id": "4bc39576",
   "metadata": {},
   "outputs": [],
   "source": [
    "import networkx as nx\n",
    "import matplotlib.pyplot as plt\n",
    "def visualize_graph(graph, title=\"Graph Visualization\", node_color='lightblue', edge_color='gray'):\n",
    "    \"\"\"\n",
    "    Visualize a graph using networkx and matplotlib.\n",
    "    \n",
    "    Parameters:\n",
    "        graph: Graph in adjacency list format (dict)\n",
    "        title: Title for the visualization\n",
    "        node_color: Color for nodes\n",
    "        edge_color: Color for edges\n",
    "    \"\"\"\n",
    "    G = nx.Graph()\n",
    "    \n",
    "    # Add nodes and edges\n",
    "    for node, neighbors in graph.items():\n",
    "        G.add_node(node)\n",
    "        for neighbor in neighbors:\n",
    "            G.add_edge(node, neighbor)\n",
    "    \n",
    "    # Set up the plot\n",
    "    plt.figure(figsize=(10, 8))\n",
    "    pos = nx.spring_layout(G)  # positions for all nodes\n",
    "    \n",
    "    # Draw the graph\n",
    "    nx.draw(G, pos, \n",
    "            with_labels=True, \n",
    "            node_color=node_color, \n",
    "            edge_color=edge_color,\n",
    "            node_size=2000, \n",
    "            font_size=16, \n",
    "            font_weight='bold')\n",
    "    \n",
    "    plt.title(title, fontsize=20)\n",
    "    plt.show()\n",
    "\n",
    "def visualize_tree(tree, title=\"Tree Visualization\", root=None):\n",
    "    \"\"\"\n",
    "    Visualize a tree using networkx and matplotlib.\n",
    "    \n",
    "    Parameters:\n",
    "        tree: Tree in adjacency list format (dict)\n",
    "        title: Title for the visualization\n",
    "        root: Root node of the tree (if None, first node is used)\n",
    "    \"\"\"\n",
    "    G = nx.DiGraph()\n",
    "    \n",
    "    # Add nodes and edges\n",
    "    for node, children in tree.items():\n",
    "        G.add_node(node)\n",
    "        for child in children:\n",
    "            G.add_edge(node, child)\n",
    "    \n",
    "    # Set up the plot\n",
    "    plt.figure(figsize=(10, 8))\n",
    "    \n",
    "    # Use hierarchical layout for trees\n",
    "    if root is None:\n",
    "        root = next(iter(tree))\n",
    "    pos = nx.drawing.nx_agraph.graphviz_layout(G, prog='dot')\n",
    "    \n",
    "    # Draw the tree\n",
    "    nx.draw(G, pos, \n",
    "            with_labels=True, \n",
    "            node_color='lightgreen', \n",
    "            edge_color='gray',\n",
    "            node_size=2000, \n",
    "            font_size=16, \n",
    "            font_weight='bold',\n",
    "            arrows=True)\n",
    "    \n",
    "    plt.title(title, fontsize=20)\n",
    "    plt.show()"
   ]
  },
  {
   "cell_type": "code",
   "execution_count": 30,
   "id": "1373d356",
   "metadata": {},
   "outputs": [
    {
     "data": {
      "image/png": "[encoded data removed]",
      "text/plain": [
       "<Figure size 1000x800 with 1 Axes>"
      ]
     },
     "metadata": {},
     "output_type": "display_data"
    }
   ],
   "source": [
    "# Basic visualization of the city locations graph\n",
    "visualize_graph(g1, title=\"City Locations Graph\")\n",
    "\n"
   ]
  },
  {
   "cell_type": "markdown",
   "id": "7fb24242",
   "metadata": {},
   "source": [
    "#### 1.  🔍 **findDegrees()** – Get Degree of Each Vertex, Store in Dictionary, and Sort the Dictionary"
   ]
  },
  {
   "cell_type": "code",
   "execution_count": 32,
   "id": "2c6fbc52",
   "metadata": {},
   "outputs": [
    {
     "name": "stdout",
     "output_type": "stream",
     "text": [
      "{'Charbagh': 1, 'Chinhat': 2, 'Matyari': 2, 'SRMCEM': 2, 'Hazratganj': 3}\n",
      "{'Charbagh': 1, 'Chinhat': 2, 'Matyari': 2, 'SRMCEM': 2, 'Hazratganj': 3}\n",
      "{'Charbagh': 1, 'Chinhat': 2, 'Matyari': 2, 'SRMCEM': 2, 'Hazratganj': 3}\n"
     ]
    }
   ],
   "source": [
    "def findDegrees(graph, nodes=None):\n",
    "    dict1 = {}\n",
    "\n",
    "    if isinstance(graph, dict):  # Adjacency List\n",
    "        for node, item in graph.items():\n",
    "            dict1[node] = len(item)\n",
    "\n",
    "    elif isinstance(graph, list) and nodes is None:  # Edge List\n",
    "        for tup in graph:\n",
    "            if tup[0] in dict1:\n",
    "                dict1[tup[0]] +=1\n",
    "\n",
    "            else:\n",
    "                dict1[tup[0]] = 1\n",
    "\n",
    "    else:  # Adjacency Matrix\n",
    "        for i in range(len(graph)):\n",
    "            dict1[nodes[i]] = sum(graph[i])\n",
    "\n",
    "\n",
    "    dict1 = dict(sorted(dict1.items(), key=lambda x: x[1]))\n",
    "\n",
    "    return dict1\n",
    "\n",
    "print(findDegrees(g1))\n",
    "print(findDegrees(g2,nodes))\n",
    "print(findDegrees(g3))\n"
   ]
  },
  {
   "cell_type": "markdown",
   "id": "4170e8f4",
   "metadata": {},
   "source": [
    "####  2. **🔁 inter-convert()** – Convert Between Graph Representations"
   ]
  },
  {
   "cell_type": "code",
   "execution_count": 45,
   "id": "b48bbaa0",
   "metadata": {},
   "outputs": [
    {
     "data": {
      "text/plain": [
       "({'Hazratganj': ['Chinhat', 'Charbagh', 'Matyari'],\n",
       "  'Chinhat': ['Hazratganj', 'SRMCEM'],\n",
       "  'Charbagh': ['Hazratganj'],\n",
       "  'Matyari': ['Hazratganj', 'SRMCEM'],\n",
       "  'SRMCEM': ['Chinhat', 'Matyari']},\n",
       " [('Hazratganj', 'Chinhat'),\n",
       "  ('Hazratganj', 'Charbagh'),\n",
       "  ('Hazratganj', 'Matyari'),\n",
       "  ('Chinhat', 'Hazratganj'),\n",
       "  ('Chinhat', 'SRMCEM'),\n",
       "  ('Charbagh', 'Hazratganj'),\n",
       "  ('Matyari', 'Hazratganj'),\n",
       "  ('Matyari', 'SRMCEM'),\n",
       "  ('SRMCEM', 'Chinhat'),\n",
       "  ('SRMCEM', 'Matyari')])"
      ]
     },
     "execution_count": 45,
     "metadata": {},
     "output_type": "execute_result"
    }
   ],
   "source": [
    "\n",
    "def inter_convert(graph,node=None):\n",
    "    if isinstance(graph,dict): # adjacency Lists\n",
    "        l1 = []\n",
    "        l2 = []\n",
    "        for node,item in graph.items():\n",
    "            r = []\n",
    "            for node in graph.keys():\n",
    "                r.append(1 if node in item else 0)\n",
    "            l1.append(r)\n",
    "\n",
    "        for node,item in graph.items():\n",
    "            for n in item:\n",
    "                l2.append((node,n))\n",
    "        return l1,l2\n",
    "\n",
    "    elif isinstance(graph,list) and node is None:  # edge list\n",
    "        dict1 = {}\n",
    "        for tup in graph:\n",
    "            if tup[0] in dict1:\n",
    "                dict1[tup[0]].append(tup[1])\n",
    "            else:\n",
    "                dict1[tup[0]] = [tup[1]]\n",
    "\n",
    "        l1 = [] \n",
    "\n",
    "        for node,item in dict1.items():\n",
    "            r = []\n",
    "            for node in dict1.keys():\n",
    "                r.append(1 if node in item else 0)\n",
    "            l1.append(r)\n",
    "            \n",
    "        return dict1,l1\n",
    "        \n",
    "    else:                       # adjacency matrix\n",
    "\n",
    "        dict1 = {}\n",
    "\n",
    "        for i in range(len(graph)):\n",
    "            for j in range(len(graph[i])):\n",
    "                if graph[i][j] ==1:\n",
    "                    if node[i] in dict1:\n",
    "                        dict1[node[i]].append(node[j])\n",
    "                    else:\n",
    "                        dict1[node[i]] = [node[j]]\n",
    "\n",
    "        l1 = []\n",
    "\n",
    "        for node,item in dict1.items():\n",
    "            for n in item:\n",
    "                l1.append((node,n))\n",
    "        \n",
    "\n",
    "        return dict1,l1\n",
    "\n",
    "\n",
    "inter_convert(g2,nodes)\n",
    "                \n"
   ]
  },
  {
   "cell_type": "markdown",
   "id": "cf2b97bf",
   "metadata": {},
   "source": [
    "---\n"
   ]
  },
  {
   "cell_type": "markdown",
   "id": "b8acf0e0",
   "metadata": {},
   "source": [
    "#### 3. **check_adjacency()** – Check if Two Vertices Are Adjacent\n"
   ]
  },
  {
   "cell_type": "code",
   "execution_count": 46,
   "id": "d37a7a48",
   "metadata": {},
   "outputs": [
    {
     "name": "stdout",
     "output_type": "stream",
     "text": [
      "False\n",
      "True\n"
     ]
    }
   ],
   "source": [
    "# Given two vertices check if they are adjacent\n",
    "\n",
    "def check_adjacency(graph,v1,v2):\n",
    "    if v2 in graph[v1]:\n",
    "        return True\n",
    "    else:\n",
    "        return False\n",
    "    \n",
    "print(check_adjacency(g1,\"Hazratganj\",\"SRMCEM\"))\n",
    "print(check_adjacency(g1,\"Hazratganj\",\"Matyari\"))\n",
    "\n"
   ]
  },
  {
   "cell_type": "markdown",
   "id": "51969998",
   "metadata": {},
   "source": [
    "#### 4. **is_complete()** – Check if a Graph is Complete"
   ]
  },
  {
   "cell_type": "markdown",
   "id": "cf9f3819",
   "metadata": {},
   "source": [
    "Complete Graph - A graph is complete every node of the graph is connected to every other node in graph"
   ]
  },
  {
   "cell_type": "markdown",
   "id": "0bddc49e",
   "metadata": {},
   "source": [
    "*Note : This function will graph as adjacency matrix, but we can obviously interconvert these using inter_convert() function***"
   ]
  },
  {
   "cell_type": "code",
   "execution_count": 35,
   "id": "b52fccc6",
   "metadata": {},
   "outputs": [
    {
     "data": {
      "text/plain": [
       "False"
      ]
     },
     "execution_count": 35,
     "metadata": {},
     "output_type": "execute_result"
    }
   ],
   "source": [
    "def is_complete(graph):\n",
    "    n = len(graph)\n",
    "\n",
    "    for i in range(n):\n",
    "        if sum(graph[i])!=n-1:\n",
    "            return False\n",
    "        \n",
    "    return True\n",
    "\n",
    "is_complete(g2)\n"
   ]
  },
  {
   "cell_type": "markdown",
   "id": "a28f5ec4",
   "metadata": {},
   "source": [
    "#### 5. **is_connected()** – Check if a Graph is Connected"
   ]
  },
  {
   "cell_type": "markdown",
   "id": "a1bf7f31",
   "metadata": {},
   "source": [
    "Connected Graph – A graph is connected if there is a path between every pair of vertices in the graph. In other words, all vertices are reachable from any other vertex."
   ]
  },
  {
   "cell_type": "code",
   "execution_count": 36,
   "id": "eaaadb6f",
   "metadata": {},
   "outputs": [
    {
     "data": {
      "text/plain": [
       "True"
      ]
     },
     "execution_count": 36,
     "metadata": {},
     "output_type": "execute_result"
    }
   ],
   "source": [
    "# check if a graph is connected\n",
    "from collections import deque\n",
    "\n",
    "def is_connected(graph): \n",
    "    nodes_visited = set()\n",
    "\n",
    "    nodes = [key for key in graph.keys()]\n",
    "\n",
    "    ran = nodes[len(nodes)//2]\n",
    "    qu = deque([ran])\n",
    "    nodes_visited.add(ran)\n",
    "    \n",
    "    while qu:\n",
    "        cur = qu.popleft()\n",
    "\n",
    "        for neigbour in graph[cur]:\n",
    "            if neigbour not in nodes_visited:\n",
    "                nodes_visited.add(neigbour)\n",
    "                qu.append(neigbour)\n",
    "\n",
    "    return len(nodes_visited) == len(nodes)\n",
    "\n",
    "is_connected(g1)\n"
   ]
  },
  {
   "cell_type": "markdown",
   "id": "ce25a98e",
   "metadata": {},
   "source": [
    "#### 6. To Check whether given sequence of vertices is **Walk**, **Trail**, **Path** or None."
   ]
  },
  {
   "cell_type": "markdown",
   "id": "dd54273f",
   "metadata": {},
   "source": [
    "Walk – A sequence of vertices where each adjacent pair is connected by an edge (vertices and edges can repeat).\n",
    "\n",
    "Trail – A walk in which no edge is repeated, but vertices may repeat.\n",
    "\n",
    "Path – A trail in which no vertex is repeated."
   ]
  },
  {
   "cell_type": "code",
   "execution_count": 37,
   "id": "7a758b23",
   "metadata": {},
   "outputs": [
    {
     "data": {
      "text/plain": [
       "'It is a walk'"
      ]
     },
     "execution_count": 37,
     "metadata": {},
     "output_type": "execute_result"
    }
   ],
   "source": [
    "# given a sequenece of vertices check if it is walk, trial, path, NOTA.\n",
    "\n",
    "def find(seq, graph):  # Assumes the graph is in adjacency list format\n",
    "\n",
    "    # Check if the sequence forms a valid walk\n",
    "    def is_walk():\n",
    "        for i in range(len(seq) - 1):\n",
    "            if not check_adjacency(graph, seq[i], seq[i + 1]):\n",
    "                return False\n",
    "        return True\n",
    "\n",
    "    # Check if the sequence forms a path (no repeated vertices)\n",
    "    def is_path():\n",
    "        if is_walk():\n",
    "            vertex_visited = set()\n",
    "            for vertex in seq:\n",
    "                if vertex in vertex_visited:\n",
    "                    return False\n",
    "                vertex_visited.add(vertex)\n",
    "            return True\n",
    "        return False\n",
    "\n",
    "    # Check if the sequence forms a trail (no repeated edges)\n",
    "    def is_trail():\n",
    "        if is_walk():\n",
    "            edges_visited = set()\n",
    "            for i in range(len(seq) - 1):\n",
    "                edge = (seq[i], seq[i + 1])\n",
    "                if edge in edges_visited:\n",
    "                    return False\n",
    "                edges_visited.add(edge)\n",
    "            return True\n",
    "        return False\n",
    "\n",
    "    # Determine the type of sequence\n",
    "    if is_path():\n",
    "        return \"It is a path\"\n",
    "    if is_trail():\n",
    "        return \"It is a trail\"\n",
    "    if is_walk():\n",
    "        return \"It is a walk\"\n",
    "    return \"None of these\"\n",
    "\n",
    "\n",
    "        \n",
    "s1 = [\"Charbagh\",\"Hazratganj\",\"Chinhat\",\"SRMCEM\",\"Matyari\",\"Hazratganj\",\"Chinhat\",\"Hazratganj\"]\n",
    "find(s1,g1)"
   ]
  },
  {
   "cell_type": "markdown",
   "id": "dc43ed46",
   "metadata": {},
   "source": [
    "#### 7. 🔁 has_cycle() – Detect Cycle in an Undirected Graph"
   ]
  },
  {
   "cell_type": "markdown",
   "id": "ba0799d8",
   "metadata": {},
   "source": [
    "Cycle in Graph – If there exists a path that starts and ends at the same vertex without repeating any edge.\n",
    "\n"
   ]
  },
  {
   "cell_type": "code",
   "execution_count": 38,
   "id": "1c60774c",
   "metadata": {},
   "outputs": [
    {
     "data": {
      "text/plain": [
       "True"
      ]
     },
     "execution_count": 38,
     "metadata": {},
     "output_type": "execute_result"
    }
   ],
   "source": [
    "from collections import deque\n",
    "\n",
    "def has_cycle(graph):\n",
    "    \"\"\"\n",
    "    Checks whether an undirected graph contains a cycle using BFS.\n",
    "\n",
    "    Parameters:\n",
    "        graph (dict): An adjacency list representation of the graph.\n",
    "\n",
    "    Returns:\n",
    "        bool: True if the graph has a cycle, False otherwise.\n",
    "    \"\"\"\n",
    "    visited = set()\n",
    "\n",
    "    for vertex in graph:\n",
    "        if vertex not in visited:\n",
    "            queue = deque([(vertex, None)])\n",
    "\n",
    "            while queue:\n",
    "                current, parent = queue.popleft()\n",
    "                visited.add(current)\n",
    "\n",
    "                for neighbor in graph[current]:\n",
    "                    if neighbor not in visited:\n",
    "                        queue.append((neighbor, current))\n",
    "                    elif neighbor != parent:\n",
    "                        # Found a visited neighbor that is not the parent\n",
    "                        return True\n",
    "\n",
    "    return False  # No cycle found\n",
    "\n",
    "\n",
    "has_cycle(g1)"
   ]
  },
  {
   "cell_type": "markdown",
   "id": "0d932372",
   "metadata": {},
   "source": [
    "#### 8. 🌳 **is_tree()** – Check If a Graph Is a Tree"
   ]
  },
  {
   "cell_type": "markdown",
   "id": "2b5ed3ba",
   "metadata": {},
   "source": [
    "Tree – A connected graph with no cycles and exactly (V − 1) edges."
   ]
  },
  {
   "cell_type": "code",
   "execution_count": 39,
   "id": "c57b8984",
   "metadata": {},
   "outputs": [
    {
     "data": {
      "text/plain": [
       "False"
      ]
     },
     "execution_count": 39,
     "metadata": {},
     "output_type": "execute_result"
    }
   ],
   "source": [
    "def is_tree(graph):\n",
    "    V = len(graph)\n",
    "    edges = sum(len(graph[v]) for v in graph)//2\n",
    "\n",
    "    if not is_connected(graph):\n",
    "        return False\n",
    "    \n",
    "    if edges!= V-1:\n",
    "        return False\n",
    "    \n",
    "    # if has_cycle(graph,V):return False\n",
    "\n",
    "    return True\n",
    "\n",
    "is_tree(g1)"
   ]
  },
  {
   "cell_type": "markdown",
   "id": "498ac6ea",
   "metadata": {},
   "source": [
    "#### 9. **spanning_tree()** – Extract a Spanning Tree from a Connected Cyclic Graph"
   ]
  },
  {
   "cell_type": "markdown",
   "id": "88fe7077",
   "metadata": {},
   "source": [
    "Spanning Tree – A subgraph that includes all the vertices of the original graph with the minimum number of edges and no cycles.\n"
   ]
  },
  {
   "cell_type": "code",
   "execution_count": 43,
   "id": "c37739b5",
   "metadata": {},
   "outputs": [
    {
     "name": "stdout",
     "output_type": "stream",
     "text": [
      "{'Hazratganj': ['Chinhat', 'Charbagh', 'Matyari'], 'Chinhat': ['SRMCEM'], 'Charbagh': [], 'Matyari': [], 'SRMCEM': []}\n"
     ]
    }
   ],
   "source": [
    "from collections import deque\n",
    "\n",
    "\n",
    "def directed_spanning_tree(graph):\n",
    "    \"\"\"\n",
    "    Generates a directed spanning tree from a connected directed graph using BFS.\n",
    "\n",
    "    Parameters:\n",
    "        graph (dict): Adjacency list of the directed graph.\n",
    "\n",
    "    Returns:\n",
    "        dict: Adjacency list of the directed spanning tree.\n",
    "    \"\"\"\n",
    "    \n",
    "    visited = set()\n",
    "    tree = {node: [] for node in graph}  # Start empty tree with same nodes\n",
    "    start_node = next(iter(graph))  # Get any starting node safely\n",
    "    queue = deque([start_node])\n",
    "    visited.add(start_node)\n",
    "\n",
    "    while queue:\n",
    "        current = queue.popleft()\n",
    "        \n",
    "        for neighbor in graph[current]:\n",
    "            if neighbor not in visited:\n",
    "                visited.add(neighbor)\n",
    "                tree[current].append(neighbor)\n",
    "                queue.append(neighbor)\n",
    "\n",
    "    return tree\n",
    "\n",
    "\n",
    "t1 = directed_spanning_tree(g1)\n",
    "print(t1)\n",
    "\n"
   ]
  },
  {
   "cell_type": "markdown",
   "id": "a6b16328",
   "metadata": {},
   "source": [
    "#### 10. **count_leaf_nodes()** – Count the Number of Leaf Nodes in a Tree\n",
    "\n"
   ]
  },
  {
   "cell_type": "markdown",
   "id": "98ded202",
   "metadata": {},
   "source": [
    "Leaf Node – A node in a tree with degree 1 (i.e., connected to only one other node).\n",
    "\n"
   ]
  },
  {
   "cell_type": "code",
   "execution_count": null,
   "id": "b14a4fad",
   "metadata": {},
   "outputs": [
    {
     "name": "stdout",
     "output_type": "stream",
     "text": [
      "3\n"
     ]
    }
   ],
   "source": [
    "def count_leaf_nodes(tree):\n",
    "    \"\"\"\n",
    "    Counts the number of leaf nodes in a directed tree.\n",
    "    \n",
    "    Parameters:\n",
    "        tree (dict): Adjacency list of the tree.\n",
    "    \n",
    "    Returns:\n",
    "        int: Number of leaf nodes.\n",
    "    \"\"\"\n",
    "    count = 0\n",
    "    for node, neighbors in tree.items():\n",
    "        if len(neighbors) == 0:  # A leaf node has no outgoing edges\n",
    "            count += 1\n",
    "\n",
    "    return count\n",
    "\n",
    "# Assuming `g1` is your graph, and `spanning_tree(g1)` gives you the directed spanning tree\n",
    "t1 = directed_spanning_tree(g1)\n",
    "\n",
    "# Count leaf nodes in the directed spanning tree\n",
    "print(count_leaf_nodes(t1))  # Should output the number of leaf nodes\n",
    "\n"
   ]
  },
  {
   "cell_type": "markdown",
   "id": "059ac2fa",
   "metadata": {},
   "source": [
    "### 11. **Check if a Tree is a Binary Tree**"
   ]
  },
  {
   "cell_type": "markdown",
   "id": "19d9708f",
   "metadata": {},
   "source": [
    "A binary tree is a tree where each node has **at most two children**. The function below checks if a given tree (represented as an adjacency list) is a binary tree.\n"
   ]
  },
  {
   "cell_type": "code",
   "execution_count": null,
   "id": "a90c43eb",
   "metadata": {},
   "outputs": [
    {
     "name": "stdout",
     "output_type": "stream",
     "text": [
      "True\n"
     ]
    }
   ],
   "source": [
    "def is_binary_tree(tree):\n",
    "    \"\"\"\n",
    "    Checks if a tree is a binary tree.\n",
    "    \n",
    "    Parameters:\n",
    "        tree (dict): Adjacency list of the tree.\n",
    "    \n",
    "    Returns:\n",
    "        bool: True if the tree is a binary tree, False otherwise.\n",
    "    \"\"\"\n",
    "    for node, neighbors in tree.items():\n",
    "        if len(neighbors) > 2:  # Binary tree node can have at most 2 children\n",
    "            return False\n",
    "    return True\n",
    "\n",
    "# Example tree (directed)\n",
    "tree = {\n",
    "    'A': ['B', 'C'],\n",
    "    'B': ['D'],\n",
    "    'C': [],\n",
    "    'D': []\n",
    "}\n",
    "\n",
    "# Check if it's a binary tree\n",
    "print(is_binary_tree(tree))  # Output: True\n"
   ]
  },
  {
   "cell_type": "markdown",
   "id": "f9d7d4dc",
   "metadata": {},
   "source": [
    "#### 12. Given a tree, **find its height**."
   ]
  },
  {
   "cell_type": "markdown",
   "id": "d3ae2cfb",
   "metadata": {},
   "source": [
    "The height of a tree is the length of the longest path from the root node to any leaf node.\n"
   ]
  },
  {
   "cell_type": "code",
   "execution_count": null,
   "id": "36898287",
   "metadata": {},
   "outputs": [
    {
     "name": "stdout",
     "output_type": "stream",
     "text": [
      "The height of the tree is: 4\n"
     ]
    }
   ],
   "source": [
    "def find_height(tree, node, visited=None):\n",
    "    \"\"\"\n",
    "    Finds the height of the tree starting from the given node.\n",
    "\n",
    "    Parameters:\n",
    "        tree (dict): Adjacency list of the tree.\n",
    "        node (str): The current node from which to calculate the height.\n",
    "        visited (set): A set to keep track of visited nodes.\n",
    "\n",
    "    Returns:\n",
    "        The height of the tree from the given node.\n",
    "    \"\"\"\n",
    "\n",
    "    if visited is None:\n",
    "        visited = set()\n",
    "\n",
    "    # Mark the current node as visited\n",
    "    visited.add(node)\n",
    "\n",
    "    # Initialize the height as 1 (the node itself)\n",
    "    max_height = 1\n",
    "\n",
    "    # Traverse all neighbors (children) of the current node\n",
    "    for neighbor in tree[node]:\n",
    "        if neighbor not in visited:\n",
    "            # Find the height of the subtree rooted at the neighbor\n",
    "            height = find_height(tree, neighbor, visited)\n",
    "            max_height = max(max_height, height)\n",
    "\n",
    "    # Return the height of the tree from the current node\n",
    "    return max_height + 1\n",
    "\n",
    "# Example tree (directed)\n",
    "tree = {\n",
    "    'A': ['B', 'C'],\n",
    "    'B': ['D'],\n",
    "    'C': [],\n",
    "    'D': []\n",
    "}\n",
    "\n",
    "# Finding the height of the tree\n",
    "root = 'A'\n",
    "print(f\"The height of the tree is: {find_height(tree, root)}\")\n"
   ]
  },
  {
   "cell_type": "markdown",
   "id": "07b870b8",
   "metadata": {},
   "source": [
    "#### 13. Given a tree, **find its depth**."
   ]
  },
  {
   "cell_type": "markdown",
   "id": "bc7b3186",
   "metadata": {},
   "source": [
    "The **depth** of a tree is the number of edges from the **root node** to a particular node. The depth of the **root node** is 0, and the depth increases as we move towards the leaf nodes.\n"
   ]
  },
  {
   "cell_type": "code",
   "execution_count": null,
   "id": "4acceeb5",
   "metadata": {},
   "outputs": [
    {
     "name": "stdout",
     "output_type": "stream",
     "text": [
      "The depth of node C is: 1\n"
     ]
    }
   ],
   "source": [
    "def find_node_depth(tree, target_node, current_node, visited=None, current_depth=0):\n",
    "    \"\"\"\n",
    "    Calculates the depth of a specific node in a tree.\n",
    "\n",
    "    Parameters:\n",
    "        tree (dict): The tree represented as an adjacency list.\n",
    "        target_node (str): The node whose depth we want to calculate.\n",
    "        current_node (str): The current node being checked.\n",
    "        visited (set): A set to track visited nodes during traversal.\n",
    "        current_depth (int): The current depth during traversal.\n",
    "\n",
    "    Returns:\n",
    "        int: The depth of the target node if found, else -1.\n",
    "    \"\"\"\n",
    "    if visited is None:\n",
    "        visited = set()\n",
    "\n",
    "    # Mark the current node as visited\n",
    "    visited.add(current_node)\n",
    "\n",
    "    # If we've reached the target node, return its depth\n",
    "    if current_node == target_node:\n",
    "        return current_depth\n",
    "    \n",
    "    # Traverse all neighboring nodes (children)\n",
    "    for neighbor in tree.get(current_node, []):\n",
    "        if neighbor not in visited:\n",
    "            depth = find_node_depth(tree, target_node, neighbor, visited, current_depth + 1)\n",
    "            if depth != -1:\n",
    "                return depth\n",
    "    \n",
    "    # If the node isn't found, return -1\n",
    "    return -1\n",
    "\n",
    "# Example of a directed tree\n",
    "tree_example = {\n",
    "    'A': ['B', 'C'],\n",
    "    'B': ['D'],\n",
    "    'C': [\"F\"],\n",
    "    'D': [],\n",
    "    \"F\": []\n",
    "}\n",
    "\n",
    "# Finding the depth of node 'F'\n",
    "target = 'C'\n",
    "depth_of_node = find_node_depth(tree_example, target, 'A')\n",
    "print(f\"The depth of node {target} is: {depth_of_node}\")\n",
    "\n"
   ]
  },
  {
   "cell_type": "markdown",
   "id": "2c0de786",
   "metadata": {},
   "source": [
    "## ✅ Wrap-Up\n",
    "You now know how to work with graphs and trees using Python. Keep exploring and coding!"
   ]
  }
 ],
 "metadata": {
  "kernelspec": {
   "display_name": "Python 3",
   "language": "python",
   "name": "python3"
  },
  "language_info": {
   "codemirror_mode": {
    "name": "ipython",
    "version": 3
   },
   "file_extension": ".py",
   "mimetype": "text/x-python",
   "name": "python",
   "nbconvert_exporter": "python",
   "pygments_lexer": "ipython3",
   "version": "3.12.6"
  }
 },
 "nbformat": 4,
 "nbformat_minor": 5
}
